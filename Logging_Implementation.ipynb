{
  "nbformat": 4,
  "nbformat_minor": 0,
  "metadata": {
    "colab": {
      "name": "Logging Implementation.ipynb",
      "provenance": [],
      "authorship_tag": "ABX9TyNoQ2pnBDnp5T+GV0TeNMVE",
      "include_colab_link": true
    },
    "kernelspec": {
      "name": "python3",
      "display_name": "Python 3"
    },
    "language_info": {
      "name": "python"
    }
  },
  "cells": [
    {
      "cell_type": "markdown",
      "metadata": {
        "id": "view-in-github",
        "colab_type": "text"
      },
      "source": [
        "<a href=\"https://colab.research.google.com/github/mariatomy9/Everyday_Python/blob/main/Logging_Implementation.ipynb\" target=\"_parent\"><img src=\"https://colab.research.google.com/assets/colab-badge.svg\" alt=\"Open In Colab\"/></a>"
      ]
    },
    {
      "cell_type": "code",
      "execution_count": 1,
      "metadata": {
        "id": "bznGdbWTIQUz"
      },
      "outputs": [],
      "source": [
        "import logging"
      ]
    },
    {
      "cell_type": "code",
      "source": [
        "logging.basicConfig(filename='Marialogs.txt',\n",
        "                    filemode='a',\n",
        "                    format='%(asctime)s %(levelname)s-%(message)s',\n",
        "                    datefmt='%Y-%m-%d %H-%M-%S')\n",
        "i=10\n",
        "try:\n",
        "  i=i/0\n",
        "except:\n",
        "  logging.error('Division by zero error')"
      ],
      "metadata": {
        "id": "hYnkd228ISVF"
      },
      "execution_count": 3,
      "outputs": []
    }
  ]
}