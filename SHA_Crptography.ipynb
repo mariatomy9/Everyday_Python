{
  "nbformat": 4,
  "nbformat_minor": 0,
  "metadata": {
    "colab": {
      "name": "SHA Crptography.ipynb",
      "provenance": [],
      "authorship_tag": "ABX9TyNnIK55w3z7Zgt5P8ouzpNE",
      "include_colab_link": true
    },
    "kernelspec": {
      "name": "python3",
      "display_name": "Python 3"
    },
    "language_info": {
      "name": "python"
    }
  },
  "cells": [
    {
      "cell_type": "markdown",
      "metadata": {
        "id": "view-in-github",
        "colab_type": "text"
      },
      "source": [
        "<a href=\"https://colab.research.google.com/github/mariatomy9/Everyday_Python/blob/main/SHA_Crptography.ipynb\" target=\"_parent\"><img src=\"https://colab.research.google.com/assets/colab-badge.svg\" alt=\"Open In Colab\"/></a>"
      ]
    },
    {
      "cell_type": "code",
      "execution_count": 1,
      "metadata": {
        "id": "bznGdbWTIQUz"
      },
      "outputs": [],
      "source": [
        "import hashlib"
      ]
    },
    {
      "cell_type": "markdown",
      "source": [
        "# SHA256"
      ],
      "metadata": {
        "id": "NX7y7Gw8Cejr"
      }
    },
    {
      "cell_type": "code",
      "source": [
        "str1 = 'Maria'\n",
        "hashedval = hashlib.sha256(str1.encode())\n",
        "print(hashedval)"
      ],
      "metadata": {
        "id": "hYnkd228ISVF",
        "colab": {
          "base_uri": "https://localhost:8080/"
        },
        "outputId": "c1d43c48-52cd-423c-c37e-a6b76de4a7c4"
      },
      "execution_count": 2,
      "outputs": [
        {
          "output_type": "stream",
          "name": "stdout",
          "text": [
            "<sha256 HASH object @ 0x7fede60e7db0>\n"
          ]
        }
      ]
    },
    {
      "cell_type": "code",
      "source": [
        "hashedval.hexdigest()"
      ],
      "metadata": {
        "colab": {
          "base_uri": "https://localhost:8080/",
          "height": 35
        },
        "id": "ifii-jMZCZfp",
        "outputId": "06d22375-ce36-45d5-8135-6794a5da252b"
      },
      "execution_count": 3,
      "outputs": [
        {
          "output_type": "execute_result",
          "data": {
            "application/vnd.google.colaboratory.intrinsic+json": {
              "type": "string"
            },
            "text/plain": [
              "'9ff18ebe7449349f358e3af0b57cf7a032c1c6b2272cb2656ff85eb112232f16'"
            ]
          },
          "metadata": {},
          "execution_count": 3
        }
      ]
    },
    {
      "cell_type": "code",
      "source": [
        "len(hashedval.hexdigest())"
      ],
      "metadata": {
        "colab": {
          "base_uri": "https://localhost:8080/"
        },
        "id": "zdunhoriCZiT",
        "outputId": "c29f9ae3-17db-4c5e-aec1-2e2c735356bb"
      },
      "execution_count": 4,
      "outputs": [
        {
          "output_type": "execute_result",
          "data": {
            "text/plain": [
              "64"
            ]
          },
          "metadata": {},
          "execution_count": 4
        }
      ]
    },
    {
      "cell_type": "markdown",
      "source": [
        "#SHA384"
      ],
      "metadata": {
        "id": "OFeJUGBaDPpJ"
      }
    },
    {
      "cell_type": "code",
      "source": [
        "hashedval = hashlib.sha384(str1.encode())\n",
        "hashedval.hexdigest()"
      ],
      "metadata": {
        "colab": {
          "base_uri": "https://localhost:8080/",
          "height": 35
        },
        "id": "yPuRjG4pCZk9",
        "outputId": "442dbbc6-42bf-473b-e02d-4b69181e6394"
      },
      "execution_count": 5,
      "outputs": [
        {
          "output_type": "execute_result",
          "data": {
            "application/vnd.google.colaboratory.intrinsic+json": {
              "type": "string"
            },
            "text/plain": [
              "'5f74786c5d35896b9810fa84a465991988929eb06b87f28d55ffd24b6cd7ab71a4f536733f39f0e2cf92c3a7d20816c5'"
            ]
          },
          "metadata": {},
          "execution_count": 5
        }
      ]
    },
    {
      "cell_type": "markdown",
      "source": [
        "# SHA224"
      ],
      "metadata": {
        "id": "ZgBtJgCvD0dJ"
      }
    },
    {
      "cell_type": "code",
      "source": [
        "hashedval = hashlib.sha224(str1.encode())\n",
        "hashedval.hexdigest()"
      ],
      "metadata": {
        "colab": {
          "base_uri": "https://localhost:8080/",
          "height": 35
        },
        "id": "HNsyBEGvCZno",
        "outputId": "bf9d0cb3-4ad9-4472-f1d2-acf3037ad96a"
      },
      "execution_count": 6,
      "outputs": [
        {
          "output_type": "execute_result",
          "data": {
            "application/vnd.google.colaboratory.intrinsic+json": {
              "type": "string"
            },
            "text/plain": [
              "'6cc67add32286412efcab9d0e1675a43a5c2ef3cec8879f81516ff83'"
            ]
          },
          "metadata": {},
          "execution_count": 6
        }
      ]
    }
  ]
}