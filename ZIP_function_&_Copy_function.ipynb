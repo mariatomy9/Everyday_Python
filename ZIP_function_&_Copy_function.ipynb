{
  "nbformat": 4,
  "nbformat_minor": 0,
  "metadata": {
    "colab": {
      "name": "ZIP function & Copy function.ipynb",
      "provenance": [],
      "authorship_tag": "ABX9TyOa3rcu35pespRqGJN79cF+",
      "include_colab_link": true
    },
    "kernelspec": {
      "name": "python3",
      "display_name": "Python 3"
    },
    "language_info": {
      "name": "python"
    }
  },
  "cells": [
    {
      "cell_type": "markdown",
      "metadata": {
        "id": "view-in-github",
        "colab_type": "text"
      },
      "source": [
        "<a href=\"https://colab.research.google.com/github/mariatomy9/Everyday_Python/blob/main/ZIP_function_%26_Copy_function.ipynb\" target=\"_parent\"><img src=\"https://colab.research.google.com/assets/colab-badge.svg\" alt=\"Open In Colab\"/></a>"
      ]
    },
    {
      "cell_type": "code",
      "source": [
        "lst1=['Apple','Orange','Lemon']\n",
        "lst2=['a','b','c']\n",
        "for i,j in list(zip(lst1,lst2)):\n",
        "  print(i,j)"
      ],
      "metadata": {
        "colab": {
          "base_uri": "https://localhost:8080/"
        },
        "id": "8-Y4szpeXLb1",
        "outputId": "1d576e4f-a92a-41ec-bfc7-c0fa5a167c05"
      },
      "execution_count": 2,
      "outputs": [
        {
          "output_type": "stream",
          "name": "stdout",
          "text": [
            "Apple a\n",
            "Orange b\n",
            "Lemon c\n"
          ]
        }
      ]
    },
    {
      "cell_type": "code",
      "source": [
        "dict1={'name':'Johnny','class':'Mech','number':12}\n",
        "dict2={'name':'Sam','class':'Mech','number':10}"
      ],
      "metadata": {
        "id": "Ol3IQBfWXLel"
      },
      "execution_count": 3,
      "outputs": []
    },
    {
      "cell_type": "code",
      "source": [
        "for (i,j),(i1,j1) in zip(dict1.items(),dict2.items()):\n",
        "  print(i,j)\n",
        "  print(i1,j1)"
      ],
      "metadata": {
        "colab": {
          "base_uri": "https://localhost:8080/"
        },
        "id": "pbQc_6XNYClr",
        "outputId": "6cee6641-0fde-4848-8dd5-34346d7c1c8b"
      },
      "execution_count": 4,
      "outputs": [
        {
          "output_type": "stream",
          "name": "stdout",
          "text": [
            "name Johnny\n",
            "name Sam\n",
            "class Mech\n",
            "class Mech\n",
            "number 12\n",
            "number 10\n"
          ]
        }
      ]
    },
    {
      "cell_type": "markdown",
      "source": [
        "## Shallow vs Deep Copy"
      ],
      "metadata": {
        "id": "M-CwawakZOLi"
      }
    },
    {
      "cell_type": "code",
      "source": [
        "lst3=[1,2,3,4]\n",
        "lst4=lst3.copy()\n",
        "print(lst4)"
      ],
      "metadata": {
        "colab": {
          "base_uri": "https://localhost:8080/"
        },
        "id": "oi7is_BPYc3T",
        "outputId": "dd99d983-87a4-4fe3-942d-91dc13c2ae1c"
      },
      "execution_count": 10,
      "outputs": [
        {
          "output_type": "stream",
          "name": "stdout",
          "text": [
            "[1, 2, 3, 4]\n"
          ]
        }
      ]
    },
    {
      "cell_type": "code",
      "source": [
        "lst4[0]=100\n",
        "print(lst4)\n",
        "print(lst3)"
      ],
      "metadata": {
        "colab": {
          "base_uri": "https://localhost:8080/"
        },
        "id": "BZDf4OzraWIo",
        "outputId": "bd4f9738-95dd-4588-f60d-5f25a0821527"
      },
      "execution_count": 11,
      "outputs": [
        {
          "output_type": "stream",
          "name": "stdout",
          "text": [
            "[100, 2, 3, 4]\n",
            "[1, 2, 3, 4]\n"
          ]
        }
      ]
    },
    {
      "cell_type": "code",
      "source": [
        "lst3=[[1,2,3,4],[5,6,7,8]]\n",
        "lst4=lst3.copy()\n",
        "print(lst4)"
      ],
      "metadata": {
        "colab": {
          "base_uri": "https://localhost:8080/"
        },
        "id": "GWYYQQkdZ5VI",
        "outputId": "eb8a2e28-c0c8-4f99-e340-b5f50ff5db93"
      },
      "execution_count": 13,
      "outputs": [
        {
          "output_type": "stream",
          "name": "stdout",
          "text": [
            "[[1, 2, 3, 4], [5, 6, 7, 8]]\n"
          ]
        }
      ]
    },
    {
      "cell_type": "code",
      "source": [
        "lst3.append([9,0,8,6])\n",
        "print(lst4)"
      ],
      "metadata": {
        "colab": {
          "base_uri": "https://localhost:8080/"
        },
        "id": "NP--roT8aO3n",
        "outputId": "a1764188-2b33-4968-a4c7-87636a05b842"
      },
      "execution_count": 14,
      "outputs": [
        {
          "output_type": "stream",
          "name": "stdout",
          "text": [
            "[[1, 2, 3, 4], [5, 6, 7, 8]]\n"
          ]
        }
      ]
    },
    {
      "cell_type": "code",
      "source": [
        "lst4[1][0]=200\n",
        "print(lst3)"
      ],
      "metadata": {
        "colab": {
          "base_uri": "https://localhost:8080/"
        },
        "id": "uJql8CSTbi9l",
        "outputId": "3d884010-d2b7-4ff0-f608-017be30bca8a"
      },
      "execution_count": 17,
      "outputs": [
        {
          "output_type": "stream",
          "name": "stdout",
          "text": [
            "[[1, 2, 3, 4], [200, 6, 7, 8], [9, 0, 8, 6]]\n"
          ]
        }
      ]
    },
    {
      "cell_type": "code",
      "source": [
        "#deep copy\n",
        "import copy\n",
        "lst5=[[1,2,3,4],[5,6,7,8]]\n",
        "lst6=copy.deepcopy(lst5)\n",
        "lst6[1][0]=100\n",
        "print(lst6)"
      ],
      "metadata": {
        "colab": {
          "base_uri": "https://localhost:8080/"
        },
        "id": "QHHSmgiAausq",
        "outputId": "feb954e7-c03d-4404-bb02-ea8ae8726c42"
      },
      "execution_count": 15,
      "outputs": [
        {
          "output_type": "stream",
          "name": "stdout",
          "text": [
            "[[1, 2, 3, 4], [100, 6, 7, 8]]\n"
          ]
        }
      ]
    },
    {
      "cell_type": "code",
      "source": [
        "print(lst5)"
      ],
      "metadata": {
        "colab": {
          "base_uri": "https://localhost:8080/"
        },
        "id": "B2M95HX6bZoC",
        "outputId": "5f6cb74d-254f-4196-c76b-1499be00a90c"
      },
      "execution_count": 16,
      "outputs": [
        {
          "output_type": "stream",
          "name": "stdout",
          "text": [
            "[[1, 2, 3, 4], [5, 6, 7, 8]]\n"
          ]
        }
      ]
    },
    {
      "cell_type": "code",
      "source": [
        ""
      ],
      "metadata": {
        "id": "aSNESVclbcQu"
      },
      "execution_count": null,
      "outputs": []
    }
  ]
}