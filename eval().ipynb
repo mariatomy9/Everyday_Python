{
  "nbformat": 4,
  "nbformat_minor": 0,
  "metadata": {
    "colab": {
      "name": "eval().ipynb",
      "provenance": [],
      "authorship_tag": "ABX9TyPG3D1EjNcroKkSLIDQ5HLk",
      "include_colab_link": true
    },
    "kernelspec": {
      "name": "python3",
      "display_name": "Python 3"
    },
    "language_info": {
      "name": "python"
    }
  },
  "cells": [
    {
      "cell_type": "markdown",
      "metadata": {
        "id": "view-in-github",
        "colab_type": "text"
      },
      "source": [
        "<a href=\"https://colab.research.google.com/github/mariatomy9/Everyday_Python/blob/main/eval().ipynb\" target=\"_parent\"><img src=\"https://colab.research.google.com/assets/colab-badge.svg\" alt=\"Open In Colab\"/></a>"
      ]
    },
    {
      "cell_type": "markdown",
      "source": [
        "# Eval function"
      ],
      "metadata": {
        "id": "NX7y7Gw8Cejr"
      }
    },
    {
      "cell_type": "code",
      "source": [
        "eval('3*7//7')"
      ],
      "metadata": {
        "colab": {
          "base_uri": "https://localhost:8080/"
        },
        "id": "qWCyJPX1GMPx",
        "outputId": "75b8b9a6-6e5b-4e5a-8013-cf1abbfb1704"
      },
      "execution_count": 1,
      "outputs": [
        {
          "output_type": "execute_result",
          "data": {
            "text/plain": [
              "3"
            ]
          },
          "metadata": {},
          "execution_count": 1
        }
      ]
    },
    {
      "cell_type": "code",
      "source": [
        "var = compile(\"5*5%2\",\"<string>\",\"eval\")\n",
        "eval(var)"
      ],
      "metadata": {
        "colab": {
          "base_uri": "https://localhost:8080/"
        },
        "id": "x14rifIoGMTG",
        "outputId": "bfebd06f-cfc1-4e53-866e-8da5a9767566"
      },
      "execution_count": 2,
      "outputs": [
        {
          "output_type": "execute_result",
          "data": {
            "text/plain": [
              "1"
            ]
          },
          "metadata": {},
          "execution_count": 2
        }
      ]
    },
    {
      "cell_type": "code",
      "source": [
        "#Global\n",
        "x=100\n",
        "eval(\"x**2+7*x\",{\"x\":x})"
      ],
      "metadata": {
        "colab": {
          "base_uri": "https://localhost:8080/"
        },
        "id": "ExA__G2LGMp9",
        "outputId": "e16b5e93-3752-4624-86f1-bf95a4f9c710"
      },
      "execution_count": 3,
      "outputs": [
        {
          "output_type": "execute_result",
          "data": {
            "text/plain": [
              "10700"
            ]
          },
          "metadata": {},
          "execution_count": 3
        }
      ]
    },
    {
      "cell_type": "code",
      "source": [
        ""
      ],
      "metadata": {
        "id": "PlHdaw_6GM1r"
      },
      "execution_count": null,
      "outputs": []
    }
  ]
}