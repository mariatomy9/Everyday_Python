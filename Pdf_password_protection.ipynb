{
  "nbformat": 4,
  "nbformat_minor": 0,
  "metadata": {
    "colab": {
      "name": "Pdf_password_protection.ipynb",
      "provenance": [],
      "authorship_tag": "ABX9TyP16ydq0rfBf/Dw6K/XIh2U",
      "include_colab_link": true
    },
    "kernelspec": {
      "name": "python3",
      "display_name": "Python 3"
    },
    "language_info": {
      "name": "python"
    }
  },
  "cells": [
    {
      "cell_type": "markdown",
      "metadata": {
        "id": "view-in-github",
        "colab_type": "text"
      },
      "source": [
        "<a href=\"https://colab.research.google.com/github/mariatomy9/Everyday_Python/blob/main/Pdf_password_protection.ipynb\" target=\"_parent\"><img src=\"https://colab.research.google.com/assets/colab-badge.svg\" alt=\"Open In Colab\"/></a>"
      ]
    },
    {
      "cell_type": "code",
      "execution_count": 1,
      "metadata": {
        "colab": {
          "base_uri": "https://localhost:8080/"
        },
        "id": "pavhUp6uD33r",
        "outputId": "c6e926ff-f31a-47a5-f238-40233d9396e7"
      },
      "outputs": [
        {
          "output_type": "stream",
          "name": "stdout",
          "text": [
            "Collecting PyPDF2\n",
            "  Downloading PyPDF2-1.26.0.tar.gz (77 kB)\n",
            "\u001b[?25l\r\u001b[K     |████▎                           | 10 kB 26.1 MB/s eta 0:00:01\r\u001b[K     |████████▌                       | 20 kB 10.8 MB/s eta 0:00:01\r\u001b[K     |████████████▊                   | 30 kB 7.0 MB/s eta 0:00:01\r\u001b[K     |█████████████████               | 40 kB 3.6 MB/s eta 0:00:01\r\u001b[K     |█████████████████████▏          | 51 kB 4.2 MB/s eta 0:00:01\r\u001b[K     |█████████████████████████▍      | 61 kB 4.5 MB/s eta 0:00:01\r\u001b[K     |█████████████████████████████▋  | 71 kB 4.6 MB/s eta 0:00:01\r\u001b[K     |████████████████████████████████| 77 kB 3.0 MB/s \n",
            "\u001b[?25hBuilding wheels for collected packages: PyPDF2\n",
            "  Building wheel for PyPDF2 (setup.py) ... \u001b[?25l\u001b[?25hdone\n",
            "  Created wheel for PyPDF2: filename=PyPDF2-1.26.0-py3-none-any.whl size=61102 sha256=ce195923356d6022ca4bff7842c84625e90983bce077327a9c392a2820d9a05e\n",
            "  Stored in directory: /root/.cache/pip/wheels/80/1a/24/648467ade3a77ed20f35cfd2badd32134e96dd25ca811e64b3\n",
            "Successfully built PyPDF2\n",
            "Installing collected packages: PyPDF2\n",
            "Successfully installed PyPDF2-1.26.0\n"
          ]
        }
      ],
      "source": [
        "!pip install PyPDF2"
      ]
    },
    {
      "cell_type": "code",
      "source": [
        "from PyPDF2 import PdfFileReader,PdfFileWriter"
      ],
      "metadata": {
        "id": "H9RPO2azD7Tu"
      },
      "execution_count": 2,
      "outputs": []
    },
    {
      "cell_type": "code",
      "source": [
        "#open current file\n",
        "file_pdf = PdfFileReader('Docker+Hub+Recap+Notes.pdf')\n",
        "#Object for pdf-write\n",
        "out_pdf = PdfFileWriter()"
      ],
      "metadata": {
        "id": "-3WmC3-7D8HB"
      },
      "execution_count": 3,
      "outputs": []
    },
    {
      "cell_type": "code",
      "source": [
        "file_pdf"
      ],
      "metadata": {
        "colab": {
          "base_uri": "https://localhost:8080/"
        },
        "id": "VkAfAozYD8J_",
        "outputId": "7d629510-935f-4a85-fd24-34d32e9ff437"
      },
      "execution_count": 4,
      "outputs": [
        {
          "output_type": "execute_result",
          "data": {
            "text/plain": [
              "<PyPDF2.pdf.PdfFileReader at 0x7fce75931610>"
            ]
          },
          "metadata": {},
          "execution_count": 4
        }
      ]
    },
    {
      "cell_type": "code",
      "source": [
        "for i in range(file_pdf.numPages):\n",
        "  page_details = file_pdf.getPage(i)\n",
        "  #Add to output Page\n",
        "  out_pdf.addPage(page_details)"
      ],
      "metadata": {
        "id": "Z2pqaxM-D8Mr"
      },
      "execution_count": 6,
      "outputs": []
    },
    {
      "cell_type": "code",
      "source": [
        "password = 'Maria@123'\n",
        "out_pdf.encrypt(password)"
      ],
      "metadata": {
        "id": "o9yqVHQKFL0_"
      },
      "execution_count": 7,
      "outputs": []
    },
    {
      "cell_type": "code",
      "source": [
        "with open(\"encryptedpdf.pdf\",\"wb\") as filename:\n",
        "  out_pdf.write(filename)"
      ],
      "metadata": {
        "id": "OScz4YU6F7i5"
      },
      "execution_count": 8,
      "outputs": []
    }
  ]
}